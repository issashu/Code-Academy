{
 "metadata": {
  "language_info": {
   "codemirror_mode": {
    "name": "ipython",
    "version": 3
   },
   "file_extension": ".py",
   "mimetype": "text/x-python",
   "name": "python",
   "nbconvert_exporter": "python",
   "pygments_lexer": "ipython3",
   "version": "3.9.2"
  },
  "orig_nbformat": 2,
  "kernelspec": {
   "name": "python3",
   "display_name": "Python 3.9.2 64-bit",
   "metadata": {
    "interpreter": {
     "hash": "aee8b7b246df8f9039afb4144a1f6fd8d2ca17a180786b69acc140d282b71a49"
    }
   }
  }
 },
 "nbformat": 4,
 "nbformat_minor": 2,
 "cells": [
  {
   "cell_type": "code",
   "execution_count": 2,
   "metadata": {},
   "outputs": [
    {
     "output_type": "stream",
     "name": "stdout",
     "text": [
      "{0, 1, 2, 3, 12}\n"
     ]
    }
   ],
   "source": [
    "my_set = {0, 1, 2, 3}\n",
    "my_set.add(12)\n",
    "print(my_set)"
   ]
  },
  {
   "cell_type": "code",
   "execution_count": 6,
   "metadata": {},
   "outputs": [
    {
     "output_type": "stream",
     "name": "stdout",
     "text": [
      "{1, 2, 12}\n"
     ]
    }
   ],
   "source": [
    "my_set.remove(3)\n",
    "print(my_set)"
   ]
  },
  {
   "cell_type": "code",
   "execution_count": 14,
   "metadata": {},
   "outputs": [
    {
     "output_type": "stream",
     "name": "stdout",
     "text": [
      "1 2 3 4 5\n15\n"
     ]
    }
   ],
   "source": [
    "my_tuple = (1, 2, 3, 4, 5)\n",
    "n1,n2,n3,n4,n5=my_tuple\n",
    "print(n1, n2, n3, n4, n5)\n",
    "print(n1+n2+n3+n4+n5)"
   ]
  },
  {
   "cell_type": "code",
   "execution_count": 15,
   "metadata": {},
   "outputs": [
    {
     "output_type": "stream",
     "name": "stdout",
     "text": [
      "{2}\n"
     ]
    }
   ],
   "source": [
    "set1 ={1,2,3,4}\n",
    "set2 ={2}\n",
    "set3 = set1&set2\n",
    "print(set3)"
   ]
  },
  {
   "cell_type": "code",
   "execution_count": 16,
   "metadata": {},
   "outputs": [
    {
     "output_type": "stream",
     "name": "stdout",
     "text": [
      "317\n"
     ]
    }
   ],
   "source": [
    "x=100+200+\\\n",
    "    10+5+\\\n",
    "        2\n",
    "print (x)"
   ]
  },
  {
   "cell_type": "code",
   "execution_count": 17,
   "metadata": {},
   "outputs": [
    {
     "output_type": "stream",
     "name": "stdout",
     "text": [
      "['red', 'green']\n"
     ]
    }
   ],
   "source": [
    "colors =['red',\n",
    "        'green']\n",
    "print(colors)"
   ]
  },
  {
   "cell_type": "code",
   "execution_count": 23,
   "metadata": {},
   "outputs": [
    {
     "output_type": "stream",
     "name": "stdout",
     "text": [
      "true\nhi\n"
     ]
    }
   ],
   "source": [
    "if True:\n",
    "    print(\"true\")\n",
    "    print(\"hi\")\n",
    "else:\n",
    "    print(\"false\")"
   ]
  },
  {
   "cell_type": "code",
   "execution_count": 22,
   "metadata": {},
   "outputs": [
    {
     "output_type": "stream",
     "name": "stdout",
     "text": [
      "100 200 300\n100*200*300\n100#200#300&"
     ]
    }
   ],
   "source": [
    "print (100, 200, 300)\n",
    "print(100, 200, 300, sep = '*')\n",
    "print(100, 200, 300, sep ='#', end='&')"
   ]
  },
  {
   "cell_type": "code",
   "execution_count": 24,
   "metadata": {},
   "outputs": [
    {
     "output_type": "stream",
     "name": "stdout",
     "text": [
      "This is 0 and this is 1\nThis is 1 and this is 0\n"
     ]
    }
   ],
   "source": [
    "print(\"This is {0} and this is {1}\" .format(0,1))\n",
    "print(\"This is {1} and this is {0}\" .format(0,1))"
   ]
  },
  {
   "cell_type": "code",
   "execution_count": 25,
   "metadata": {},
   "outputs": [
    {
     "output_type": "stream",
     "name": "stdout",
     "text": [
      "Value is:  123\nType is:  <class 'str'>\n"
     ]
    }
   ],
   "source": [
    "#input() always registers a string\n",
    "val1 = input('Enter a value:')\n",
    "print(\"Value is: \", val1)\n",
    "print(\"Type is: \", type(val1))"
   ]
  },
  {
   "cell_type": "code",
   "execution_count": 27,
   "metadata": {},
   "outputs": [
    {
     "output_type": "stream",
     "name": "stdout",
     "text": [
      "Value is:  123\nType is:  <class 'int'>\n"
     ]
    }
   ],
   "source": [
    "val2 = int(val1)\n",
    "print(\"Value is: \", val2)\n",
    "print(\"Type is: \", type(val2))"
   ]
  },
  {
   "cell_type": "code",
   "execution_count": 30,
   "metadata": {},
   "outputs": [
    {
     "output_type": "stream",
     "name": "stdout",
     "text": [
      "246\n"
     ]
    }
   ],
   "source": [
    "val3 = val2 +int(val1)\n",
    "print(val3)"
   ]
  },
  {
   "cell_type": "code",
   "execution_count": 35,
   "metadata": {},
   "outputs": [
    {
     "output_type": "stream",
     "name": "stdout",
     "text": [
      "This is Pi:  3.141592653589793\n"
     ]
    }
   ],
   "source": [
    "import math\n",
    "print(\"This is Pi: \", math.pi)"
   ]
  },
  {
   "cell_type": "code",
   "execution_count": 36,
   "metadata": {},
   "outputs": [
    {
     "output_type": "stream",
     "name": "stdout",
     "text": [
      "This is Pi:  3.141592653589793\n"
     ]
    }
   ],
   "source": [
    "from math import pi\n",
    "print(\"This is Pi: \", math.pi)"
   ]
  },
  {
   "cell_type": "code",
   "execution_count": 37,
   "metadata": {},
   "outputs": [
    {
     "output_type": "stream",
     "name": "stdout",
     "text": [
      "This is >50 true\nthis is outside the if\n"
     ]
    }
   ],
   "source": [
    "num = 100\n",
    "if num > 50:\n",
    "    print(\"This is >50 true\")\n",
    "print(\"this is outside the if\")\n",
    "\n"
   ]
  },
  {
   "cell_type": "code",
   "execution_count": 38,
   "metadata": {},
   "outputs": [
    {
     "output_type": "stream",
     "name": "stdout",
     "text": [
      "this is outside the if\n"
     ]
    }
   ],
   "source": [
    "num = 10\n",
    "if num > 50:\n",
    "    print(\"This is >50 true\")\n",
    "print(\"this is outside the if\")\n"
   ]
  },
  {
   "cell_type": "code",
   "execution_count": 40,
   "metadata": {},
   "outputs": [
    {
     "output_type": "stream",
     "name": "stdout",
     "text": [
      "Second value is bigger\n"
     ]
    }
   ],
   "source": [
    "val1 = 100\n",
    "val2 = 1000\n",
    "if (val1>val2):\n",
    "    print(\"First value is bigger\")\n",
    "else:\n",
    "    print(\"Second value is bigger\")"
   ]
  },
  {
   "cell_type": "code",
   "execution_count": 41,
   "metadata": {},
   "outputs": [
    {
     "output_type": "stream",
     "name": "stdout",
     "text": [
      "First value is positive\n"
     ]
    }
   ],
   "source": [
    "val1 = 100\n",
    "if (val1>0):\n",
    "    print(\"First value is positive\")\n",
    "else:\n",
    "    print(\"First value is negative\")"
   ]
  },
  {
   "cell_type": "code",
   "execution_count": 43,
   "metadata": {},
   "outputs": [
    {
     "output_type": "stream",
     "name": "stdout",
     "text": [
      "Number is less then 300\n"
     ]
    }
   ],
   "source": [
    "val1 = 100\n",
    "if(val1>1000):\n",
    "    print(\"Number is > 1000\")\n",
    "elif(val1 >500):\n",
    "    print(\"This is the middle ground\")\n",
    "elif(val1>300):\n",
    "    print(\"Almost done\")\n",
    "else:\n",
    "    print(\"Number is less then 300\")"
   ]
  },
  {
   "cell_type": "code",
   "execution_count": 48,
   "metadata": {},
   "outputs": [
    {
     "output_type": "stream",
     "name": "stdout",
     "text": [
      "Number is >= 100 <500\n"
     ]
    }
   ],
   "source": [
    "val1 = 100\n",
    "if(val1>=100):\n",
    "    if(val1<500):\n",
    "        print(\"Number is >= 100 <500\")\n",
    "    else:\n",
    "        print(\"Number is > 500\")\n",
    "else:\n",
    "    print(\"Number is < 100\")"
   ]
  },
  {
   "cell_type": "code",
   "execution_count": 55,
   "metadata": {},
   "outputs": [
    {
     "output_type": "stream",
     "name": "stdout",
     "text": [
      "Inside the loop\nInside the loop\nInside the loop\nInside the loop\nInside the loop\nInside the loop\nInside the loop\nInside the loop\nInside the loop\nInside the loop\nOutside the loop\n"
     ]
    }
   ],
   "source": [
    "value = 10\n",
    "total = 0\n",
    "counter = 1\n",
    "while counter <= value:\n",
    "    print(\"Inside the loop\")\n",
    "    counter = counter +1\n",
    "else:\n",
    "    print(\"Outside the loop\")\n"
   ]
  },
  {
   "cell_type": "code",
   "execution_count": 65,
   "metadata": {},
   "outputs": [
    {
     "output_type": "stream",
     "name": "stdout",
     "text": [
      "Current value is: 0\nCurrent value is: 1\nCurrent value is: 2\nCurrent value is: 3\nCurrent value is: 4\nCurrent value is: 5\nCurrent value is: 6\nCurrent value is: 7\nCurrent value is: 8\nEnd!\n"
     ]
    }
   ],
   "source": [
    "value = 0\n",
    "total = 0\n",
    "counter = 1\n",
    "while counter < 10:\n",
    "    print(\"Current value is:\", value)\n",
    "    counter = counter +1\n",
    "    value = value +1\n",
    "    if (counter == 5):\n",
    "        print(\"Continue\")\n",
    "        continue\n",
    "    print\n",
    "        \n",
    "else:\n",
    "    print(\"End!\")"
   ]
  },
  {
   "cell_type": "code",
   "execution_count": 69,
   "metadata": {},
   "outputs": [
    {
     "output_type": "stream",
     "name": "stdout",
     "text": [
      "100\n320\n361\n417\n651\n663\n818\n820\n931\nThis is else of for!\n"
     ]
    }
   ],
   "source": [
    "val1 = 0\n",
    "numbers = [100, 220, 41, 56, 234, 12, 155, 2, 111]\n",
    "\n",
    "for val1 in numbers:\n",
    "    total = total + val1\n",
    "    print(total)\n",
    "else:\n",
    "    print(\"This is else of for!\")"
   ]
  },
  {
   "cell_type": "code",
   "execution_count": 70,
   "metadata": {},
   "outputs": [
    {
     "output_type": "stream",
     "name": "stdout",
     "text": [
      "range(0, 12)\n[0, 1, 2, 3, 4, 5, 6, 7, 8, 9, 10, 11]\n[3, 4, 5, 6, 7, 8, 9, 10, 11]\n[3, 6, 9, 12, 15, 18, 21, 24, 27, 30]\n"
     ]
    }
   ],
   "source": [
    "print (range(12))\n",
    "print(list(range(12)))\n",
    "print(list(range(3,12)))\n",
    "print(list(range(3, 33, 3)))"
   ]
  },
  {
   "cell_type": "code",
   "execution_count": 75,
   "metadata": {},
   "outputs": [
    {
     "output_type": "stream",
     "name": "stdout",
     "text": [
      "I like car: Audi\nI like car: VW\nI like car: Citroen\n"
     ]
    }
   ],
   "source": [
    "car = [\"Audi\", \"VW\", \"Citroen\"]\n",
    "for n in range(len(car)):\n",
    "    print(\"I like car:\", car[n])"
   ]
  },
  {
   "cell_type": "code",
   "execution_count": 77,
   "metadata": {},
   "outputs": [
    {
     "output_type": "stream",
     "name": "stdout",
     "text": [
      "C\no\nd\ne\nthe checked value is: A\nc\na\nd\ne\nm\ny\n"
     ]
    }
   ],
   "source": [
    "for value in \"CodeAcademy\":\n",
    "    if value == \"A\":\n",
    "        print(\"the checked value is:\", value )\n",
    "        continue\n",
    "    print(value)"
   ]
  },
  {
   "cell_type": "code",
   "execution_count": 79,
   "metadata": {},
   "outputs": [],
   "source": [
    "sequence = {'C', 'O', 'D', 'E'}\n",
    "for val1 in sequence:\n",
    "    pass"
   ]
  },
  {
   "cell_type": "code",
   "execution_count": null,
   "metadata": {},
   "outputs": [],
   "source": []
  }
 ]
}