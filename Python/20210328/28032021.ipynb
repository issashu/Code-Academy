{
 "metadata": {
  "language_info": {
   "codemirror_mode": {
    "name": "ipython",
    "version": 3
   },
   "file_extension": ".py",
   "mimetype": "text/x-python",
   "name": "python",
   "nbconvert_exporter": "python",
   "pygments_lexer": "ipython3",
   "version": "3.9.2"
  },
  "orig_nbformat": 2,
  "kernelspec": {
   "name": "python3",
   "display_name": "Python 3.9.2 64-bit",
   "metadata": {
    "interpreter": {
     "hash": "aee8b7b246df8f9039afb4144a1f6fd8d2ca17a180786b69acc140d282b71a49"
    }
   }
  }
 },
 "nbformat": 4,
 "nbformat_minor": 2,
 "cells": [
  {
   "source": [
    "list_numbers = [1,2,3,4,5,6,8,9,0,12,11,11,11,123,134,125]\n",
    "list_objects =[\"one\", 2, 'green', {\"Four\":4}, None]\n",
    "new_number = 7\n",
    "list_numbers.append(new_number)\n",
    "new_object = {'Five':5}\n",
    "list_objects.append(new_object)\n",
    "\n",
    "print (list_numbers)\n",
    "print (list_objects)"
   ],
   "cell_type": "code",
   "metadata": {},
   "execution_count": 17,
   "outputs": [
    {
     "output_type": "stream",
     "name": "stdout",
     "text": [
      "[1, 2, 3, 4, 5, 6, 8, 9, 0, 12, 11, 123, 134, 125, 7]\n['one', 2, 'green', {'Four': 4}, None, {'Five': 5}]\n"
     ]
    }
   ]
  },
  {
   "cell_type": "code",
   "execution_count": 18,
   "metadata": {},
   "outputs": [
    {
     "output_type": "stream",
     "name": "stdout",
     "text": [
      "1\n5\n"
     ]
    }
   ],
   "source": [
    "print (list_numbers[0])\n",
    "print (list_numbers[4])"
   ]
  },
  {
   "cell_type": "code",
   "execution_count": 19,
   "metadata": {},
   "outputs": [
    {
     "output_type": "stream",
     "name": "stdout",
     "text": [
      "7\n{'Five': 5}\n"
     ]
    }
   ],
   "source": [
    "print (list_numbers[-1])\n",
    "print (list_objects[-1])"
   ]
  },
  {
   "cell_type": "code",
   "execution_count": 27,
   "metadata": {},
   "outputs": [
    {
     "output_type": "execute_result",
     "data": {
      "text/plain": [
       "9"
      ]
     },
     "metadata": {},
     "execution_count": 27
    }
   ],
   "source": [
    "#[1,2,3,4,5,6,8,9,0,12,11,11,11,123,134,125]\n",
    "#returns the index of the item searched for. First item is always 0 index like in C++\n",
    "list_numbers.index(12)\n"
   ]
  },
  {
   "cell_type": "code",
   "execution_count": 26,
   "metadata": {},
   "outputs": [
    {
     "output_type": "execute_result",
     "data": {
      "text/plain": [
       "10"
      ]
     },
     "metadata": {},
     "execution_count": 26
    }
   ],
   "source": [
    "list_numbers.index(11,8, 12)"
   ]
  },
  {
   "cell_type": "code",
   "execution_count": 29,
   "metadata": {},
   "outputs": [
    {
     "output_type": "stream",
     "name": "stdout",
     "text": [
      "[1, 2, 3, 4, 5, 6, 8, 9, 0, 12, 11, 123, 134, 125, 7, ['Wizard', 'Paladin', 'Cleric', 'Rogue'], ['Wizard', 'Paladin', 'Cleric', 'Rogue']]\n"
     ]
    }
   ],
   "source": [
    "list_classes = ['Wizard', 'Paladin', 'Cleric', 'Rogue']\n",
    "list_numbers.append(list_classes)\n",
    "print (list_numbers)"
   ]
  },
  {
   "cell_type": "code",
   "execution_count": 32,
   "metadata": {},
   "outputs": [
    {
     "output_type": "stream",
     "name": "stdout",
     "text": [
      "['Wizard', 'Paladin', 'Cleric', 'Rogue', 'Human', 'Dwarf', 'Orc', 'Elf', 'NewList', 'Human', 'Dwarf', 'Orc', 'Elf']\n"
     ]
    }
   ],
   "source": [
    "list_races = ['NewList','Human', 'Dwarf', 'Orc', 'Elf']\n",
    "list_classes.extend(list_races)\n",
    "print (list_classes)"
   ]
  },
  {
   "cell_type": "code",
   "execution_count": 34,
   "metadata": {},
   "outputs": [
    {
     "output_type": "stream",
     "name": "stdout",
     "text": [
      "['NewList', 'Human', 'Dwarf', 'Orc', 'Elf', 1, 2, 3, 4, 5, 6, 8, 9, 0, 12, 11, 123, 134, 125, 7, ['Wizard', 'Paladin', 'Cleric', 'Rogue'], ['Wizard', 'Paladin', 'Cleric', 'Rogue', 'Human', 'Dwarf', 'Orc', 'Elf', 'NewList', 'Human', 'Dwarf', 'Orc', 'Elf']]\n"
     ]
    }
   ],
   "source": [
    "list_races += list_numbers\n",
    "print (list_races)"
   ]
  },
  {
   "cell_type": "code",
   "execution_count": 35,
   "metadata": {},
   "outputs": [
    {
     "output_type": "stream",
     "name": "stdout",
     "text": [
      "[1, 2, 3, 4, 5, 6, 8, 9, 0, 12, 11, 123, 134, 125, 7, ['Wizard', 'Paladin', 'Cleric', 'Rogue'], 45, ['Wizard', 'Paladin', 'Cleric', 'Rogue', 'Human', 'Dwarf', 'Orc', 'Elf', 'NewList', 'Human', 'Dwarf', 'Orc', 'Elf']]\n"
     ]
    }
   ],
   "source": [
    "list_numbers.insert(-1, 45)\n",
    "print (list_numbers)"
   ]
  },
  {
   "cell_type": "code",
   "execution_count": 36,
   "metadata": {},
   "outputs": [
    {
     "output_type": "stream",
     "name": "stdout",
     "text": [
      "['strawberry', 'apple', 'lemon', 'cucumber', 'tomato']\n"
     ]
    }
   ],
   "source": [
    "fruits = ['strawberry', 'apple', 'lemon', 'potato', 'cucumber', 'tomato']\n",
    "fruits.remove('potato')\n",
    "print(fruits)\n"
   ]
  },
  {
   "cell_type": "code",
   "execution_count": 40,
   "metadata": {},
   "outputs": [
    {
     "output_type": "error",
     "ename": "TypeError",
     "evalue": "list.extend() takes exactly one argument (9 given)",
     "traceback": [
      "\u001b[0;31m---------------------------------------------------------------------------\u001b[0m",
      "\u001b[0;31mTypeError\u001b[0m                                 Traceback (most recent call last)",
      "\u001b[0;32m<ipython-input-40-258171ccf9ad>\u001b[0m in \u001b[0;36m<module>\u001b[0;34m\u001b[0m\n\u001b[0;32m----> 1\u001b[0;31m \u001b[0mlist_numbers\u001b[0m\u001b[0;34m.\u001b[0m\u001b[0mextend\u001b[0m\u001b[0;34m(\u001b[0m\u001b[0;36m12\u001b[0m\u001b[0;34m,\u001b[0m \u001b[0;36m12\u001b[0m\u001b[0;34m,\u001b[0m\u001b[0;36m13\u001b[0m\u001b[0;34m,\u001b[0m\u001b[0;36m12\u001b[0m\u001b[0;34m,\u001b[0m\u001b[0;36m12\u001b[0m\u001b[0;34m,\u001b[0m\u001b[0;36m12\u001b[0m\u001b[0;34m,\u001b[0m\u001b[0;36m13\u001b[0m\u001b[0;34m,\u001b[0m\u001b[0;36m12\u001b[0m\u001b[0;34m,\u001b[0m\u001b[0;36m12\u001b[0m\u001b[0;34m)\u001b[0m\u001b[0;34m\u001b[0m\u001b[0;34m\u001b[0m\u001b[0m\n\u001b[0m\u001b[1;32m      2\u001b[0m \u001b[0mlist_numbers\u001b[0m\u001b[0;34m.\u001b[0m\u001b[0mcount\u001b[0m\u001b[0;34m(\u001b[0m\u001b[0;36m12\u001b[0m\u001b[0;34m)\u001b[0m\u001b[0;34m\u001b[0m\u001b[0;34m\u001b[0m\u001b[0m\n",
      "\u001b[0;31mTypeError\u001b[0m: list.extend() takes exactly one argument (9 given)"
     ]
    }
   ],
   "source": [
    "list_numbers.extend(12, 12,13,12,12,12,13,12,12)\n",
    "list_numbers.count(12)"
   ]
  },
  {
   "cell_type": "code",
   "execution_count": 42,
   "metadata": {},
   "outputs": [
    {
     "output_type": "stream",
     "name": "stdout",
     "text": [
      "['Wizard', 'Paladin', 'Cleric', 'Rogue', 'Human', 'Dwarf', 'Orc', 'Elf', 'NewList', 'Human', 'Dwarf', 'Orc']\n"
     ]
    }
   ],
   "source": [
    "list_classes.pop(-1)\n",
    "print(list_classes)"
   ]
  },
  {
   "cell_type": "code",
   "execution_count": 44,
   "metadata": {},
   "outputs": [
    {
     "output_type": "stream",
     "name": "stdout",
     "text": [
      "['Wizard', 'Paladin', 'Cleric', 'Human', 'Dwarf', 'Orc', 'Elf', 'NewList', 'Human', 'Dwarf', 'Orc']\n"
     ]
    }
   ],
   "source": [
    "list_classes.pop(list_classes.index('Rogue'))\n",
    "print(list_classes)"
   ]
  },
  {
   "cell_type": "code",
   "execution_count": 45,
   "metadata": {},
   "outputs": [
    {
     "output_type": "stream",
     "name": "stdout",
     "text": [
      "['Orc', 'Dwarf', 'Human', 'NewList', 'Elf', 'Orc', 'Dwarf', 'Human', 'Cleric', 'Paladin', 'Wizard']\n"
     ]
    }
   ],
   "source": [
    "list_classes.reverse()\n",
    "print(list_classes)"
   ]
  },
  {
   "cell_type": "code",
   "execution_count": 46,
   "metadata": {},
   "outputs": [
    {
     "output_type": "stream",
     "name": "stdout",
     "text": [
      "[100, 200, 300]\n[100, 200, 300]\n[100, 200, 300, 500]\n"
     ]
    }
   ],
   "source": [
    "list = [100, 200, 300]\n",
    "list2 = list\n",
    "print (list2)\n",
    "print (list)\n",
    "list2.append(500)\n",
    "print(list)"
   ]
  },
  {
   "cell_type": "code",
   "execution_count": 47,
   "metadata": {},
   "outputs": [
    {
     "output_type": "stream",
     "name": "stdout",
     "text": [
      "['a', 'b', 'c', 'd', 'e', 'f', 'g']\n['a', 'b', 'c', 'd', 'e', 'f', 'g']\n"
     ]
    }
   ],
   "source": [
    "alphabet = ['a','b','c','d','e','f','g']\n",
    "print (alphabet)\n",
    "alphabet.clear\n",
    "print(alphabet)"
   ]
  },
  {
   "cell_type": "code",
   "execution_count": 53,
   "metadata": {},
   "outputs": [
    {
     "output_type": "execute_result",
     "data": {
      "text/plain": [
       "[1, 2, 3]"
      ]
     },
     "metadata": {},
     "execution_count": 53
    }
   ],
   "source": [
    "#slicing - below slices from end up to element with index 3\n",
    "list_of_numbers = [1,2,3,4,5,6,7,8,9,10]\n",
    "list_of_numbers [:3:-1]\n",
    "list_of_numbers [:3:1]"
   ]
  },
  {
   "cell_type": "code",
   "execution_count": 54,
   "metadata": {},
   "outputs": [
    {
     "output_type": "stream",
     "name": "stdout",
     "text": [
      "[100, 200, 400]\n[100, 200, 400]\n[100, 200, 400]\n[100, 200, 400, 500]\n"
     ]
    }
   ],
   "source": [
    "list1 = [100, 200, 400]\n",
    "list2 = list1\n",
    "print(list1)\n",
    "print(list2)\n",
    "list2=list1[:]\n",
    "list2.append(500)\n",
    "print(list1)\n",
    "print(list2)"
   ]
  },
  {
   "cell_type": "code",
   "execution_count": 55,
   "metadata": {},
   "outputs": [
    {
     "output_type": "stream",
     "name": "stdout",
     "text": [
      "(1, 2, 3)\n(1, 2.5, 'test')\n"
     ]
    }
   ],
   "source": [
    "tuple1=(1,2,3)\n",
    "tuple2 = 1,2.5,\"test\"\n",
    "\n",
    "print(tuple1)\n",
    "print(tuple2)"
   ]
  },
  {
   "cell_type": "code",
   "execution_count": 56,
   "metadata": {},
   "outputs": [
    {
     "output_type": "execute_result",
     "data": {
      "text/plain": [
       "{1, 2, 3, 4, 5, 6, 7, 8}"
      ]
     },
     "metadata": {},
     "execution_count": 56
    }
   ],
   "source": [
    "set1 = {1,3,3,4}\n",
    "set2 = {5,3,7,4}\n",
    "\n",
    "set1|set2"
   ]
  },
  {
   "cell_type": "code",
   "execution_count": 75,
   "metadata": {},
   "outputs": [
    {
     "output_type": "stream",
     "name": "stdout",
     "text": [
      "{3, 4}\n"
     ]
    }
   ],
   "source": [
    "set1 = {1,3,3,4}\n",
    "set2 = {5,3,7,4}\n",
    "\n",
    "set1 = set1 & set2\n",
    "print(set1)"
   ]
  },
  {
   "cell_type": "code",
   "execution_count": null,
   "metadata": {},
   "outputs": [],
   "source": []
  }
 ]
}