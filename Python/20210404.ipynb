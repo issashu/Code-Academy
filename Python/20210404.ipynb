{
 "metadata": {
  "language_info": {
   "codemirror_mode": {
    "name": "ipython",
    "version": 3
   },
   "file_extension": ".py",
   "mimetype": "text/x-python",
   "name": "python",
   "nbconvert_exporter": "python",
   "pygments_lexer": "ipython3",
   "version": "3.9.2"
  },
  "orig_nbformat": 2,
  "kernelspec": {
   "name": "python392jvsc74a57bd0aee8b7b246df8f9039afb4144a1f6fd8d2ca17a180786b69acc140d282b71a49",
   "display_name": "Python 3.9.2 64-bit"
  },
  "metadata": {
   "interpreter": {
    "hash": "aee8b7b246df8f9039afb4144a1f6fd8d2ca17a180786b69acc140d282b71a49"
   }
  }
 },
 "nbformat": 4,
 "nbformat_minor": 2,
 "cells": [
  {
   "cell_type": "code",
   "execution_count": 2,
   "metadata": {},
   "outputs": [
    {
     "output_type": "stream",
     "name": "stdout",
     "text": [
      "Found positive number at index:  0\nFound positive number at index:  1\nFound negative number at index:  2\nFound positive number at index:  3\nFound negative number at index:  4\nFound negative number at index:  5\n"
     ]
    }
   ],
   "source": [
    "x =[100, 200, -300, 40, -200,-30]\n",
    "\n",
    "for i,n in enumerate(x):\n",
    "    if n>0:\n",
    "        print(\"Found positive number at index: \", i)\n",
    "    elif n<0:\n",
    "        print(\"Found negative number at index: \", i)"
   ]
  },
  {
   "cell_type": "code",
   "execution_count": 5,
   "metadata": {},
   "outputs": [
    {
     "output_type": "stream",
     "name": "stdout",
     "text": [
      "dict_items([(0, 1), (1, 2), (2, 3), (3, 4)])\n"
     ]
    }
   ],
   "source": [
    "#viewitems() in 2.7!!!!\n",
    "x = {0: 1, 1: 2, 2: 3, 3: 4}\n",
    "print(x.items())"
   ]
  },
  {
   "cell_type": "code",
   "execution_count": 6,
   "metadata": {},
   "outputs": [
    {
     "output_type": "stream",
     "name": "stdout",
     "text": [
      "[1, 4, 9, 16]\n"
     ]
    }
   ],
   "source": [
    "# ** is the power operator\n",
    "x = [1, 2, 3, 4]\n",
    "x_squared = []\n",
    "for n in x:\n",
    "    x_squared.append(n**2)\n",
    "print(x_squared)"
   ]
  },
  {
   "cell_type": "code",
   "execution_count": 10,
   "metadata": {},
   "outputs": [
    {
     "output_type": "stream",
     "name": "stdout",
     "text": [
      "[1, 4, 9, 16]\n"
     ]
    }
   ],
   "source": [
    "# ** is the power operator\n",
    "#comprehension is [output for_cycle if_statement]\n",
    "x = [1, 2, 3, 4]\n",
    "x_squared = [n**2 for n in x]\n",
    "print(x_squared)"
   ]
  },
  {
   "cell_type": "code",
   "execution_count": 14,
   "metadata": {},
   "outputs": [
    {
     "output_type": "stream",
     "name": "stdout",
     "text": [
      "[4, 16]\n"
     ]
    }
   ],
   "source": [
    "# ** is the power operator\n",
    "#comprehension is [output for_cycle if_statement]\n",
    "x = [1, 2, 3, 4]\n",
    "x_squared = [n*n for n in x if (n % 2)==0]\n",
    "print(x_squared)"
   ]
  },
  {
   "cell_type": "code",
   "execution_count": 16,
   "metadata": {},
   "outputs": [
    {
     "output_type": "stream",
     "name": "stdout",
     "text": [
      "[1, 4, 9, 16, 25, 36]\n[1, 4, 9, 16, 25, 36]\n"
     ]
    }
   ],
   "source": [
    "list1 = [1, 2, 3, 4, 5, 6]\n",
    "result = []\n",
    "for i in list1:\n",
    "    result.append(i*i)\n",
    "print(result)\n",
    "\n",
    "#same as:\n",
    "\n",
    "result = [i*i for i in [1, 2, 3, 4, 5, 6] ]\n",
    "print (result)"
   ]
  },
  {
   "cell_type": "code",
   "execution_count": 19,
   "metadata": {},
   "outputs": [
    {
     "output_type": "stream",
     "name": "stdout",
     "text": [
      "[4, 16, 36]\n"
     ]
    }
   ],
   "source": [
    "result =[i*i for i in [1, 2, 3, 4, 5, 6] if i%2 == 0]\n",
    "print(result)"
   ]
  },
  {
   "cell_type": "code",
   "execution_count": 20,
   "metadata": {},
   "outputs": [
    {
     "output_type": "stream",
     "name": "stdout",
     "text": [
      "[1, 4, 27, 16, 125, 36]\n"
     ]
    }
   ],
   "source": [
    "result =[i*i if i%2 == 0 else i**3 for i in [1, 2, 3, 4, 5, 6]]\n",
    "print(result)"
   ]
  },
  {
   "cell_type": "code",
   "execution_count": 22,
   "metadata": {},
   "outputs": [
    {
     "output_type": "stream",
     "name": "stdout",
     "text": [
      "[2, 4, 6, 8, 8, 6]\n[2, 4, 6, 8, 8, 6]\n"
     ]
    }
   ],
   "source": [
    "list1 = [[1,2,3,4], [5,6,7,8], [9,8,7,6]]\n",
    "result =[]\n",
    "for row in list1:\n",
    "    for i in row:\n",
    "        if i%2==0:\n",
    "            result.append(i)\n",
    "print(result)\n",
    "\n",
    "#same as:\n",
    "\n",
    "result = [i for row in list1 for i in row if i%2==0]\n",
    "print(result)"
   ]
  },
  {
   "cell_type": "code",
   "execution_count": 25,
   "metadata": {},
   "outputs": [
    {
     "output_type": "stream",
     "name": "stdout",
     "text": [
      "[(6, 2), (4, 8), (6, 2), (1, 3), (2, 7), (2, 7)]\n[(6, 2), (4, 8), (6, 2), (1, 3), (2, 7), (2, 7)]\n"
     ]
    }
   ],
   "source": [
    "list1 = [9, 3, 6, 1, 5, 0, 8, 2, 4, 7]\n",
    "list2 = [6, 4, 6, 1, 2, 2]\n",
    "result =[]\n",
    "for i in list2:\n",
    "    result.append((i, list1.index(i)))\n",
    "print(result)\n",
    "\n",
    "#same as:\n",
    "\n",
    "result = [(i, list1.index(i)) for i in list2]\n",
    "print(result)\n"
   ]
  },
  {
   "cell_type": "code",
   "execution_count": 26,
   "metadata": {},
   "outputs": [
    {
     "output_type": "stream",
     "name": "stdout",
     "text": [
      "{1, 2, 3, 4, 5, 6, 7}\n"
     ]
    }
   ],
   "source": [
    "input_list = [1,2,3,4,4,5,6,6,6,7,7]\n",
    "output_set = {n for n in input_list}\n",
    "print(output_set)"
   ]
  },
  {
   "cell_type": "code",
   "execution_count": 27,
   "metadata": {},
   "outputs": [
    {
     "output_type": "stream",
     "name": "stdout",
     "text": [
      "{1, 2, 3, 4}\n"
     ]
    }
   ],
   "source": [
    "input_list = [1,2,3,4]\n",
    "output_set = {n for n in input_list}\n",
    "print(output_set)"
   ]
  },
  {
   "cell_type": "code",
   "execution_count": 31,
   "metadata": {},
   "outputs": [
    {
     "output_type": "stream",
     "name": "stdout",
     "text": [
      "dict_items([(0, 1), (1, 2), (2, 3), (3, 4)])\n{0: 1, 1: 4, 2: 9, 3: 16}\n"
     ]
    }
   ],
   "source": [
    "x = {0:1, 1:2, 2:3, 3:4}\n",
    "x_squared = {i: j*j for (i,j) in x.items()}\n",
    "print(x.items())\n",
    "print(x_squared)"
   ]
  },
  {
   "cell_type": "code",
   "execution_count": 32,
   "metadata": {},
   "outputs": [
    {
     "output_type": "stream",
     "name": "stdout",
     "text": [
      "[17, 3, 5, 45, 97, 19, 39, 43, 121, 23]\n"
     ]
    }
   ],
   "source": [
    "#Exersie 1: Find all odd numbers in list\n",
    "num_list = [17,3,5,45,97,32,22,10,19,39,43,121,23,66]\n",
    "result = [i for i in num_list if i%2!=0]\n",
    "print (result)"
   ]
  },
  {
   "cell_type": "code",
   "execution_count": 56,
   "metadata": {},
   "outputs": [
    {
     "output_type": "stream",
     "name": "stdout",
     "text": [
      "[5005, 5016, 5027, 5038, 5049, 5060, 5071, 5082, 5093, 5104, 5115, 5126, 5137, 5148, 5159, 5170, 5181, 5192, 5203, 5214, 5225, 5236, 5247, 5258, 5269, 5280, 5291, 5302, 5313, 5324, 5335, 5346, 5357, 5368, 5379, 5390, 5401, 5412, 5423, 5434, 5445, 5456, 5467, 5478, 5489, 5500, 5511, 5522, 5533, 5544, 5555, 5566, 5577, 5588, 5599, 5610, 5621, 5632, 5643, 5654, 5665, 5676, 5687, 5698, 5709, 5720, 5731, 5742, 5753, 5764, 5775, 5786, 5797, 5808, 5819, 5830, 5841, 5852, 5863, 5874, 5885, 5896, 5907, 5918, 5929, 5940, 5951, 5962, 5973, 5984, 5995, 6006, 6017, 6028, 6039, 6050, 6061, 6072, 6083, 6094, 6105, 6116, 6127, 6138, 6149, 6160, 6171, 6182, 6193, 6204, 6215, 6226, 6237, 6248, 6259, 6270, 6281, 6292, 6303, 6314, 6325, 6336, 6347, 6358, 6369, 6380, 6391, 6402, 6413, 6424, 6435, 6446, 6457, 6468, 6479, 6490, 6501, 6512, 6523, 6534, 6545, 6556, 6567, 6578, 6589, 6600, 6611, 6622, 6633, 6644, 6655, 6666, 6677, 6688, 6699, 6710, 6721, 6732, 6743, 6754, 6765, 6776, 6787, 6798, 6809, 6820, 6831, 6842, 6853, 6864, 6875, 6886, 6897, 6908, 6919, 6930, 6941, 6952, 6963, 6974, 6985, 6996]\n"
     ]
    }
   ],
   "source": [
    "#Exercise 2: Find all numbers % 11 in range()\n",
    "list_range = Range(5000,7000)\n",
    "result_list = []\n",
    "for i in range(5000,7000):\n",
    "    if i%11 == 0:\n",
    "        result_list.append(i)\n",
    "print(result_list)"
   ]
  },
  {
   "cell_type": "code",
   "execution_count": 61,
   "metadata": {},
   "outputs": [
    {
     "output_type": "stream",
     "name": "stdout",
     "text": [
      "[511, 611, 711, 811, 911]\n"
     ]
    }
   ],
   "source": [
    "#Exercise 3: Find all numbers with 11 in them\n",
    "Num = 11\n",
    "result = [i for i in range(500,999) if str(Num) in str(i)]\n",
    "print(result)\n"
   ]
  },
  {
   "cell_type": "code",
   "execution_count": 60,
   "metadata": {},
   "outputs": [
    {
     "output_type": "stream",
     "name": "stdout",
     "text": [
      "['odd', 'even', 'odd', 'even', 'odd', 'even', 'odd', 'even', 'odd', 'even']\n"
     ]
    }
   ],
   "source": [
    "#Exercise 4: Print odd for odd numbers and even for even numbers in range()\n",
    "int_list = range(199,209)\n",
    "result = [\"even\" if i%2 == 0 else \"odd\" for i in int_list]\n",
    "print (result)"
   ]
  },
  {
   "cell_type": "code",
   "execution_count": 53,
   "metadata": {},
   "outputs": [
    {
     "output_type": "stream",
     "name": "stdout",
     "text": [
      "[1, 2, -3, -4, -5, -6, -7, -8, 9, 10]\n"
     ]
    }
   ],
   "source": [
    "#Exercise 5: Negate all numbers between 3 and 8 in list\n",
    "list1 = [1,2,3,4,5,6,7,8,9,10]\n",
    "output = [-i if i>=3 and i<=8 else i for i in list1]\n",
    "print(output)\n"
   ]
  },
  {
   "cell_type": "code",
   "execution_count": null,
   "metadata": {},
   "outputs": [],
   "source": []
  }
 ]
}